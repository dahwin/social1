{
 "cells": [
  {
   "cell_type": "code",
   "execution_count": 4,
   "id": "83959fff-1b00-4654-9089-7c44a531281a",
   "metadata": {},
   "outputs": [
    {
     "name": "stdout",
     "output_type": "stream",
     "text": [
      "Number of CPU cores available: 8\n"
     ]
    }
   ],
   "source": [
    "import multiprocessing\n",
    "\n",
    "# Get the number of CPU cores\n",
    "num_cpu_cores = multiprocessing.cpu_count()\n",
    "\n",
    "print(f\"Number of CPU cores available: {num_cpu_cores}\")\n"
   ]
  },
  {
   "cell_type": "code",
   "execution_count": 7,
   "id": "ae56d731-fb33-455e-951f-729b998573ed",
   "metadata": {},
   "outputs": [],
   "source": [
    "import locale"
   ]
  },
  {
   "cell_type": "code",
   "execution_count": null,
   "id": "bf0a1199-fd53-4125-bcf6-e913968d90e2",
   "metadata": {},
   "outputs": [],
   "source": []
  },
  {
   "cell_type": "code",
   "execution_count": null,
   "id": "34c2da02-9d8b-4aab-b94b-38ccdf903e4c",
   "metadata": {},
   "outputs": [],
   "source": []
  }
 ],
 "metadata": {
  "kernelspec": {
   "display_name": "Python 3 (ipykernel)",
   "language": "python",
   "name": "python3"
  },
  "language_info": {
   "codemirror_mode": {
    "name": "ipython",
    "version": 3
   },
   "file_extension": ".py",
   "mimetype": "text/x-python",
   "name": "python",
   "nbconvert_exporter": "python",
   "pygments_lexer": "ipython3",
   "version": "3.10.5"
  }
 },
 "nbformat": 4,
 "nbformat_minor": 5
}
