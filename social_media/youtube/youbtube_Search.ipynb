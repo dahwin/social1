{
 "cells": [
  {
   "cell_type": "code",
   "execution_count": 2,
   "id": "4b11811d-f562-46fe-b8be-59e63104b74a",
   "metadata": {},
   "outputs": [
    {
     "data": {
      "application/json": {
       "result": [
        {
         "descriptionSnippet": [
          {
           "bold": true,
           "text": "TWICE"
          },
          {
           "text": " Official YouTube Channel."
          }
         ],
         "id": "UCzgxx_DM2Dcb9Y1spb9mUJA",
         "link": "https://www.youtube.com/channel/UCzgxx_DM2Dcb9Y1spb9mUJA",
         "subscribers": "@TWICE",
         "thumbnails": [
          {
           "height": 88,
           "url": "//yt3.googleusercontent.com/lP5QX0uSGvQpHHjxp6kLDADGiKFxyhynL3d5jrBg79AlrVP5dYVDwWkHb66oVDxeg_wcBPYmcA=s88-c-k-c0x00ffffff-no-rj-mo",
           "width": 88
          },
          {
           "height": 176,
           "url": "//yt3.googleusercontent.com/lP5QX0uSGvQpHHjxp6kLDADGiKFxyhynL3d5jrBg79AlrVP5dYVDwWkHb66oVDxeg_wcBPYmcA=s176-c-k-c0x00ffffff-no-rj-mo",
           "width": 176
          }
         ],
         "title": "TWICE",
         "type": "channel",
         "videoCount": null
        },
        {
         "descriptionSnippet": null,
         "id": "UCCRb6nYKaT8tzLA8CwDdUtw",
         "link": "https://www.youtube.com/channel/UCCRb6nYKaT8tzLA8CwDdUtw",
         "subscribers": "@twicejapan_official",
         "thumbnails": [
          {
           "height": 88,
           "url": "//yt3.ggpht.com/MP1VhaF4tgx9kePG2Az1ZuqiKlgthJZ0Wfe2NXgHnHus-Z91VWJmToH082hKP7WXa6XzX4CcKuk=s88-c-k-c0x00ffffff-no-rj-mo",
           "width": 88
          },
          {
           "height": 176,
           "url": "//yt3.ggpht.com/MP1VhaF4tgx9kePG2Az1ZuqiKlgthJZ0Wfe2NXgHnHus-Z91VWJmToH082hKP7WXa6XzX4CcKuk=s176-c-k-c0x00ffffff-no-rj-mo",
           "width": 176
          }
         ],
         "title": "TWICE JAPAN OFFICIAL YouTube Channel",
         "type": "channel",
         "videoCount": null
        },
        {
         "descriptionSnippet": [
          {
           "text": "Twice is a South Korean girl group formed by JYP Entertainment. The group is composed of nine members: Nayeon, Jeongyeon, Momo ..."
          }
         ],
         "id": "UCAq0pFGa2w9SjxOq0ZxKVIw",
         "link": "https://www.youtube.com/channel/UCAq0pFGa2w9SjxOq0ZxKVIw",
         "subscribers": null,
         "thumbnails": [
          {
           "height": 88,
           "url": "https://yt3.ggpht.com/lP5QX0uSGvQpHHjxp6kLDADGiKFxyhynL3d5jrBg79AlrVP5dYVDwWkHb66oVDxeg_wcBPYmcA=s88-c-k-c0x00ffffff-no-rj-mo",
           "width": 88
          },
          {
           "height": 176,
           "url": "https://yt3.ggpht.com/lP5QX0uSGvQpHHjxp6kLDADGiKFxyhynL3d5jrBg79AlrVP5dYVDwWkHb66oVDxeg_wcBPYmcA=s176-c-k-c0x00ffffff-no-rj-mo",
           "width": 176
          }
         ],
         "title": "TWICE - Topic",
         "type": "channel",
         "videoCount": "642"
        },
        {
         "descriptionSnippet": [
          {
           "text": "Virtual Reality Content Creator and U.S. Air Force Airman."
          }
         ],
         "id": "UCJ3VlIKxmiOYPivyCb0bCwg",
         "link": "https://www.youtube.com/channel/UCJ3VlIKxmiOYPivyCb0bCwg",
         "subscribers": "@TwiceVR",
         "thumbnails": [
          {
           "height": 88,
           "url": "//yt3.ggpht.com/vbLSmC_pY5lbBOIxPG-BsieVWHH-Gulj4VFhM7_f-pvB4eI96sLNUIBdoQqEmEbNrUu1PVhMPg=s88-c-k-c0x00ffffff-no-rj-mo",
           "width": 88
          },
          {
           "height": 176,
           "url": "//yt3.ggpht.com/vbLSmC_pY5lbBOIxPG-BsieVWHH-Gulj4VFhM7_f-pvB4eI96sLNUIBdoQqEmEbNrUu1PVhMPg=s176-c-k-c0x00ffffff-no-rj-mo",
           "width": 176
          }
         ],
         "title": "Twice",
         "type": "channel",
         "videoCount": null
        },
        {
         "descriptionSnippet": [
          {
           "text": "Sharing our passion for all things knit, crochet, and fiber. Creating beautiful brain-saving knitting tools to help you find joy in your ..."
          }
         ],
         "id": "UCglARV_i3QWn0kEr1xCI-Xg",
         "link": "https://www.youtube.com/channel/UCglARV_i3QWn0kEr1xCI-Xg",
         "subscribers": "@TwiceShearedSheep",
         "thumbnails": [
          {
           "height": 88,
           "url": "//yt3.ggpht.com/x27bnx9aUAGoJRuNTITfW_n052unEpfr92bMcZ9AHRADwjOx7EapQkptK3jYk0cDkYyuvJECDQ=s88-c-k-c0x00ffffff-no-rj-mo",
           "width": 88
          },
          {
           "height": 176,
           "url": "//yt3.ggpht.com/x27bnx9aUAGoJRuNTITfW_n052unEpfr92bMcZ9AHRADwjOx7EapQkptK3jYk0cDkYyuvJECDQ=s176-c-k-c0x00ffffff-no-rj-mo",
           "width": 176
          }
         ],
         "title": "Twice Sheared Sheep",
         "type": "channel",
         "videoCount": null
        },
        {
         "descriptionSnippet": [
          {
           "text": "다시 시작하는 "
          },
          {
           "bold": true,
           "text": "TWICE"
          },
          {
           "text": " Museum의 채널입니다. 팬페이지이며 ONCE로서, "
          },
          {
           "bold": true,
           "text": "TWICE"
          },
          {
           "text": "의 무대영상을 4K-60FPS로 Up-scaling 및 일본자료 ..."
          }
         ],
         "id": "UCrXkbElGPI-k7cz_Bwi1mBQ",
         "link": "https://www.youtube.com/channel/UCrXkbElGPI-k7cz_Bwi1mBQ",
         "subscribers": "@twicemuseum4373",
         "thumbnails": [
          {
           "height": 88,
           "url": "//yt3.ggpht.com/zP1m50zKJXd5UnDc8Guz10a9PU0WJVtDvX1XY7NRUYBVOKbRAvFxBBctFlrGp5GsK-j_538eyQ=s88-c-k-c0x00ffffff-no-rj-mo",
           "width": 88
          },
          {
           "height": 176,
           "url": "//yt3.ggpht.com/zP1m50zKJXd5UnDc8Guz10a9PU0WJVtDvX1XY7NRUYBVOKbRAvFxBBctFlrGp5GsK-j_538eyQ=s176-c-k-c0x00ffffff-no-rj-mo",
           "width": 176
          }
         ],
         "title": "TWICE Museum",
         "type": "channel",
         "videoCount": null
        },
        {
         "descriptionSnippet": null,
         "id": "UCmDweckmRk1f3CB-YC2UNUQ",
         "link": "https://www.youtube.com/channel/UCmDweckmRk1f3CB-YC2UNUQ",
         "subscribers": "@twicestorage9",
         "thumbnails": [
          {
           "height": 88,
           "url": "//yt3.googleusercontent.com/ytc/AOPolaTYTNABsD2ViG6w_8uBibbhX9SG5zgQstbTyPjUBQ=s88-c-k-c0x00ffffff-no-rj-mo",
           "width": 88
          },
          {
           "height": 176,
           "url": "//yt3.googleusercontent.com/ytc/AOPolaTYTNABsD2ViG6w_8uBibbhX9SG5zgQstbTyPjUBQ=s176-c-k-c0x00ffffff-no-rj-mo",
           "width": 176
          }
         ],
         "title": "TWICE Storage",
         "type": "channel",
         "videoCount": null
        },
        {
         "descriptionSnippet": [
          {
           "text": "MiSaMo is the first sub-unit of the South Korean girl group Twice formed by JYP Entertainment. The group consists of Twice's ..."
          }
         ],
         "id": "UCiycE6vc3kx5ZYffHzf0bMA",
         "link": "https://www.youtube.com/channel/UCiycE6vc3kx5ZYffHzf0bMA",
         "subscribers": "88.6K subscribers",
         "thumbnails": [
          {
           "height": 88,
           "url": "//yt3.ggpht.com/9HBWgjQ9Hb7oNtrKyvl5WIKAa6krQVitVE7gqWj6Da9spSHyGPY1KOxb5Vkqfia3d22T2TUO=s88-c-k-c0x00ffffff-no-rj-mo",
           "width": 88
          },
          {
           "height": 176,
           "url": "//yt3.ggpht.com/9HBWgjQ9Hb7oNtrKyvl5WIKAa6krQVitVE7gqWj6Da9spSHyGPY1KOxb5Vkqfia3d22T2TUO=s176-c-k-c0x00ffffff-no-rj-mo",
           "width": 176
          }
         ],
         "title": "MISAMO - Topic",
         "type": "channel",
         "videoCount": "17"
        },
        {
         "descriptionSnippet": [
          {
           "text": "Hello.... welcome to my channel.. Enjoy watching all my collection of mobile phone incoming calls ringtones and other stuff."
          }
         ],
         "id": "UCTEO3AHaj7pkRJU2yP4jocQ",
         "link": "https://www.youtube.com/channel/UCTEO3AHaj7pkRJU2yP4jocQ",
         "subscribers": "@gadgettwice",
         "thumbnails": [
          {
           "height": 88,
           "url": "//yt3.ggpht.com/EJjImbYe8dNYAwcMMg1M0fAFDpd9U5ysdn5BpJjDt40ydLH9bKEmSWYP0zh_kDLmBdPQJ7Ei=s88-c-k-c0x00ffffff-no-rj-mo",
           "width": 88
          },
          {
           "height": 176,
           "url": "//yt3.ggpht.com/EJjImbYe8dNYAwcMMg1M0fAFDpd9U5ysdn5BpJjDt40ydLH9bKEmSWYP0zh_kDLmBdPQJ7Ei=s176-c-k-c0x00ffffff-no-rj-mo",
           "width": 176
          }
         ],
         "title": "Gadget Twice",
         "type": "channel",
         "videoCount": null
        },
        {
         "descriptionSnippet": [
          {
           "text": "Instagram - @thereal_bmiles @dohertwice."
          }
         ],
         "id": "UCYH0OMXUSPPJ9fVi5hSJwnA",
         "link": "https://www.youtube.com/channel/UCYH0OMXUSPPJ9fVi5hSJwnA",
         "subscribers": "@DoHerTwice",
         "thumbnails": [
          {
           "height": 88,
           "url": "//yt3.googleusercontent.com/kooF9cBTb0dxoHNdXMpwPRZQDJ4U4X5S3ZSnzSjSXuHvJ67MrcYkXeSedfI-gU1e8fo3nN4ZNw=s88-c-k-c0x00ffffff-no-rj-mo",
           "width": 88
          },
          {
           "height": 176,
           "url": "//yt3.googleusercontent.com/kooF9cBTb0dxoHNdXMpwPRZQDJ4U4X5S3ZSnzSjSXuHvJ67MrcYkXeSedfI-gU1e8fo3nN4ZNw=s176-c-k-c0x00ffffff-no-rj-mo",
           "width": 176
          }
         ],
         "title": "Twice",
         "type": "channel",
         "videoCount": null
        }
       ]
      },
      "text/plain": [
       "<IPython.core.display.JSON object>"
      ]
     },
     "execution_count": 2,
     "metadata": {
      "application/json": {
       "expanded": false,
       "root": "root"
      }
     },
     "output_type": "execute_result"
    }
   ],
   "source": [
    "from youtubesearchpython import ChannelsSearch\n",
    "from IPython.display import JSON\n",
    "channelsSearch = ChannelsSearch('Twice', limit = 10, region = 'US')\n",
    "\n",
    "JSON(channelsSearch.result())"
   ]
  },
  {
   "cell_type": "code",
   "execution_count": 6,
   "id": "334f7ce1-a1c6-4d11-a5c8-dbfe1c425513",
   "metadata": {},
   "outputs": [
    {
     "ename": "TypeError",
     "evalue": "'generator' object is not subscriptable",
     "output_type": "error",
     "traceback": [
      "\u001b[1;31m---------------------------------------------------------------------------\u001b[0m",
      "\u001b[1;31mTypeError\u001b[0m                                 Traceback (most recent call last)",
      "Cell \u001b[1;32mIn[6], line 5\u001b[0m\n\u001b[0;32m      1\u001b[0m \u001b[38;5;28;01mimport\u001b[39;00m \u001b[38;5;21;01mscrapetube\u001b[39;00m\n\u001b[0;32m      3\u001b[0m videos \u001b[38;5;241m=\u001b[39m scrapetube\u001b[38;5;241m.\u001b[39mget_channel(\u001b[38;5;124m\"\u001b[39m\u001b[38;5;124mUCzgxx_DM2Dcb9Y1spb9mUJA\u001b[39m\u001b[38;5;124m\"\u001b[39m)\n\u001b[1;32m----> 5\u001b[0m \u001b[38;5;28;01mfor\u001b[39;00m video \u001b[38;5;129;01min\u001b[39;00m \u001b[43mvideos\u001b[49m\u001b[43m[\u001b[49m\u001b[43m:\u001b[49m\u001b[38;5;241;43m2\u001b[39;49m\u001b[43m]\u001b[49m:\n\u001b[0;32m      6\u001b[0m     \u001b[38;5;66;03m# id = video['videoId']\u001b[39;00m\n\u001b[0;32m      7\u001b[0m     \u001b[38;5;66;03m# video_links = f\"https://www.youtube.com/watch?v={id}\"\u001b[39;00m\n\u001b[0;32m      8\u001b[0m     \u001b[38;5;28mprint\u001b[39m(video)\n",
      "\u001b[1;31mTypeError\u001b[0m: 'generator' object is not subscriptable"
     ]
    }
   ],
   "source": [
    "import scrapetube\n",
    "\n",
    "videos = scrapetube.get_channel(\"UCzgxx_DM2Dcb9Y1spb9mUJA\")\n",
    "\n",
    "for video in videos:\n",
    "    id = video['videoId']\n",
    "    video_links = f\"https://www.youtube.com/watch?v={id}\"\n",
    "    print(video_links)"
   ]
  },
  {
   "cell_type": "code",
   "execution_count": 9,
   "id": "e0ea8964-c57b-41c8-b73b-91ba70f3f28c",
   "metadata": {},
   "outputs": [
    {
     "name": "stdout",
     "output_type": "stream",
     "text": [
      "{'videoId': 'opFsMyQmScw', 'thumbnail': {'thumbnails': [{'url': 'https://i.ytimg.com/vi/opFsMyQmScw/hqdefault.jpg?sqp=-oaymwEbCKgBEF5IVfKriqkDDggBFQAAiEIYAXABwAEG&rs=AOn4CLA_uD_7rL9W9RSt-CuCJ-SFYhfJ0Q', 'width': 168, 'height': 94}, {'url': 'https://i.ytimg.com/vi/opFsMyQmScw/hqdefault.jpg?sqp=-oaymwEbCMQBEG5IVfKriqkDDggBFQAAiEIYAXABwAEG&rs=AOn4CLD9lMvjtkuql4KCWDUn64rYHrRAgg', 'width': 196, 'height': 110}, {'url': 'https://i.ytimg.com/vi/opFsMyQmScw/hqdefault.jpg?sqp=-oaymwEcCPYBEIoBSFXyq4qpAw4IARUAAIhCGAFwAcABBg==&rs=AOn4CLDlNQ7OkQ2fara1ShvrZfwzgpVk6g', 'width': 246, 'height': 138}, {'url': 'https://i.ytimg.com/vi/opFsMyQmScw/hqdefault.jpg?sqp=-oaymwEcCNACELwBSFXyq4qpAw4IARUAAIhCGAFwAcABBg==&rs=AOn4CLAkpnQddUnRmdaLMQ4u1-8LmfiowA', 'width': 336, 'height': 188}]}, 'title': {'runs': [{'text': 'JIHYO \"Killin′ Me Good (English Ver.)\" Official Lyric Video'}], 'accessibility': {'accessibilityData': {'label': 'JIHYO \"Killin′ Me Good (English Ver.)\" Official Lyric Video by TWICE 58,052 views 7 hours ago 3 minutes, 11 seconds'}}}, 'descriptionSnippet': {'runs': [{'text': 'JIHYO \"Killin′ Me Good (English Ver.)\" Official Lyric Video\\n\\nJIHYO The 1st Mini Album \"ZONE\"\\n\\n🎵\"Killin\\' Me Good (English Ver.)\"\\nJIHYO.lnk.to/KillinMeGood     \\n\\nTWICE Official Shop: https://TWI...'}]}, 'publishedTimeText': {'simpleText': '7 hours ago'}, 'lengthText': {'accessibility': {'accessibilityData': {'label': '3 minutes, 11 seconds'}}, 'simpleText': '3:11'}, 'viewCountText': {'simpleText': '58,052 views'}, 'navigationEndpoint': {'clickTrackingParams': 'CNEBENwwIhMIio3yh8usgQMV1SC3AB2XRwjmWhhVQ3pneHhfRE0yRGNiOVkxc3BiOW1VSkGaAQMQ8jg=', 'commandMetadata': {'webCommandMetadata': {'url': '/watch?v=opFsMyQmScw', 'webPageType': 'WEB_PAGE_TYPE_WATCH', 'rootVe': 3832}}, 'watchEndpoint': {'videoId': 'opFsMyQmScw', 'watchEndpointSupportedOnesieConfig': {'html5PlaybackOnesieConfig': {'commonConfig': {'url': 'https://rr1---sn-jtcxgb5ux-q5jz.googlevideo.com/initplayback?source=youtube&oeis=1&c=WEB&oad=3200&ovd=3200&oaad=11000&oavd=11000&ocs=700&oewis=1&oputc=1&ofpcc=1&msp=1&odepv=1&id=a2916c33242649cc&ip=27.147.202.139&initcwndbps=561250&mt=1694779540&oweuc=&pxtags=Cg4KAnR4EggyNDM4ODc3Mg&rxtags=Cg4KAnR4EggyNDM4ODc2Nw%2CCg4KAnR4EggyNDM4ODc2OA%2CCg4KAnR4EggyNDM4ODc2OQ%2CCg4KAnR4EggyNDM4ODc3MA%2CCg4KAnR4EggyNDM4ODc3MQ%2CCg4KAnR4EggyNDM4ODc3Mg%2CCg4KAnR4EggyNDM4ODc3Mw'}}}}}, 'ownerBadges': [{'metadataBadgeRenderer': {'icon': {'iconType': 'OFFICIAL_ARTIST_BADGE'}, 'style': 'BADGE_STYLE_TYPE_VERIFIED_ARTIST', 'tooltip': 'Official Artist Channel', 'trackingParams': 'CNEBENwwIhMIio3yh8usgQMV1SC3AB2XRwjm', 'accessibilityData': {'label': 'Official Artist Channel'}}}], 'trackingParams': 'CNEBENwwIhMIio3yh8usgQMV1SC3AB2XRwjmQMyTmaGyhtvIogE=', 'showActionMenu': False, 'shortViewCountText': {'accessibility': {'accessibilityData': {'label': '58K views'}}, 'simpleText': '58K views'}, 'menu': {'menuRenderer': {'items': [{'menuServiceItemRenderer': {'text': {'runs': [{'text': 'Add to queue'}]}, 'icon': {'iconType': 'ADD_TO_QUEUE_TAIL'}, 'serviceEndpoint': {'clickTrackingParams': 'CNUBEP6YBBgGIhMIio3yh8usgQMV1SC3AB2XRwjm', 'commandMetadata': {'webCommandMetadata': {'sendPost': True}}, 'signalServiceEndpoint': {'signal': 'CLIENT_SIGNAL', 'actions': [{'clickTrackingParams': 'CNUBEP6YBBgGIhMIio3yh8usgQMV1SC3AB2XRwjm', 'addToPlaylistCommand': {'openMiniplayer': True, 'videoId': 'opFsMyQmScw', 'listType': 'PLAYLIST_EDIT_LIST_TYPE_QUEUE', 'onCreateListCommand': {'clickTrackingParams': 'CNUBEP6YBBgGIhMIio3yh8usgQMV1SC3AB2XRwjm', 'commandMetadata': {'webCommandMetadata': {'sendPost': True, 'apiUrl': '/youtubei/v1/playlist/create'}}, 'createPlaylistServiceEndpoint': {'videoIds': ['opFsMyQmScw'], 'params': 'CAQ%3D'}}, 'videoIds': ['opFsMyQmScw']}}]}}, 'trackingParams': 'CNUBEP6YBBgGIhMIio3yh8usgQMV1SC3AB2XRwjm'}}, {'menuServiceItemRenderer': {'text': {'runs': [{'text': 'Share'}]}, 'icon': {'iconType': 'SHARE'}, 'serviceEndpoint': {'clickTrackingParams': 'CNEBENwwIhMIio3yh8usgQMV1SC3AB2XRwjm', 'commandMetadata': {'webCommandMetadata': {'sendPost': True, 'apiUrl': '/youtubei/v1/share/get_share_panel'}}, 'shareEntityServiceEndpoint': {'serializedShareEntity': 'CgtvcEZzTXlRbVNjdw%3D%3D', 'commands': [{'clickTrackingParams': 'CNEBENwwIhMIio3yh8usgQMV1SC3AB2XRwjm', 'openPopupAction': {'popup': {'unifiedSharePanelRenderer': {'trackingParams': 'CNQBEI5iIhMIio3yh8usgQMV1SC3AB2XRwjm', 'showLoadingSpinner': True}}, 'popupType': 'DIALOG', 'beReused': True}}]}}, 'trackingParams': 'CNEBENwwIhMIio3yh8usgQMV1SC3AB2XRwjm'}}], 'trackingParams': 'CNEBENwwIhMIio3yh8usgQMV1SC3AB2XRwjm', 'accessibility': {'accessibilityData': {'label': 'Action menu'}}}}, 'thumbnailOverlays': [{'thumbnailOverlayTimeStatusRenderer': {'text': {'accessibility': {'accessibilityData': {'label': '3 minutes, 11 seconds'}}, 'simpleText': '3:11'}, 'style': 'DEFAULT'}}, {'thumbnailOverlayToggleButtonRenderer': {'isToggled': False, 'untoggledIcon': {'iconType': 'WATCH_LATER'}, 'toggledIcon': {'iconType': 'CHECK'}, 'untoggledTooltip': 'Watch later', 'toggledTooltip': 'Added', 'untoggledServiceEndpoint': {'clickTrackingParams': 'CNMBEPnnAxgCIhMIio3yh8usgQMV1SC3AB2XRwjm', 'commandMetadata': {'webCommandMetadata': {'sendPost': True, 'apiUrl': '/youtubei/v1/browse/edit_playlist'}}, 'playlistEditEndpoint': {'playlistId': 'WL', 'actions': [{'addedVideoId': 'opFsMyQmScw', 'action': 'ACTION_ADD_VIDEO'}]}}, 'toggledServiceEndpoint': {'clickTrackingParams': 'CNMBEPnnAxgCIhMIio3yh8usgQMV1SC3AB2XRwjm', 'commandMetadata': {'webCommandMetadata': {'sendPost': True, 'apiUrl': '/youtubei/v1/browse/edit_playlist'}}, 'playlistEditEndpoint': {'playlistId': 'WL', 'actions': [{'action': 'ACTION_REMOVE_VIDEO_BY_VIDEO_ID', 'removedVideoId': 'opFsMyQmScw'}]}}, 'untoggledAccessibility': {'accessibilityData': {'label': 'Watch later'}}, 'toggledAccessibility': {'accessibilityData': {'label': 'Added'}}, 'trackingParams': 'CNMBEPnnAxgCIhMIio3yh8usgQMV1SC3AB2XRwjm'}}, {'thumbnailOverlayToggleButtonRenderer': {'untoggledIcon': {'iconType': 'ADD_TO_QUEUE_TAIL'}, 'toggledIcon': {'iconType': 'PLAYLIST_ADD_CHECK'}, 'untoggledTooltip': 'Add to queue', 'toggledTooltip': 'Added', 'untoggledServiceEndpoint': {'clickTrackingParams': 'CNIBEMfsBBgDIhMIio3yh8usgQMV1SC3AB2XRwjm', 'commandMetadata': {'webCommandMetadata': {'sendPost': True}}, 'signalServiceEndpoint': {'signal': 'CLIENT_SIGNAL', 'actions': [{'clickTrackingParams': 'CNIBEMfsBBgDIhMIio3yh8usgQMV1SC3AB2XRwjm', 'addToPlaylistCommand': {'openMiniplayer': True, 'videoId': 'opFsMyQmScw', 'listType': 'PLAYLIST_EDIT_LIST_TYPE_QUEUE', 'onCreateListCommand': {'clickTrackingParams': 'CNIBEMfsBBgDIhMIio3yh8usgQMV1SC3AB2XRwjm', 'commandMetadata': {'webCommandMetadata': {'sendPost': True, 'apiUrl': '/youtubei/v1/playlist/create'}}, 'createPlaylistServiceEndpoint': {'videoIds': ['opFsMyQmScw'], 'params': 'CAQ%3D'}}, 'videoIds': ['opFsMyQmScw']}}]}}, 'untoggledAccessibility': {'accessibilityData': {'label': 'Add to queue'}}, 'toggledAccessibility': {'accessibilityData': {'label': 'Added'}}, 'trackingParams': 'CNIBEMfsBBgDIhMIio3yh8usgQMV1SC3AB2XRwjm'}}, {'thumbnailOverlayNowPlayingRenderer': {'text': {'runs': [{'text': 'Now playing'}]}}}]}\n",
      "{'videoId': 'wUTgoUUBQUo', 'thumbnail': {'thumbnails': [{'url': 'https://i.ytimg.com/vi/wUTgoUUBQUo/hqdefault.jpg?sqp=-oaymwEbCKgBEF5IVfKriqkDDggBFQAAiEIYAXABwAEG&rs=AOn4CLBfVzOBmCHQkaHEX4USiBmZgYXhOg', 'width': 168, 'height': 94}, {'url': 'https://i.ytimg.com/vi/wUTgoUUBQUo/hqdefault.jpg?sqp=-oaymwEbCMQBEG5IVfKriqkDDggBFQAAiEIYAXABwAEG&rs=AOn4CLCrHFUkjvq6h6V-0syp9Czv4Plz6Q', 'width': 196, 'height': 110}, {'url': 'https://i.ytimg.com/vi/wUTgoUUBQUo/hqdefault.jpg?sqp=-oaymwEcCPYBEIoBSFXyq4qpAw4IARUAAIhCGAFwAcABBg==&rs=AOn4CLCOyvIXVkLpf9fzm4e1M83tt9RDkw', 'width': 246, 'height': 138}, {'url': 'https://i.ytimg.com/vi/wUTgoUUBQUo/hqdefault.jpg?sqp=-oaymwEcCNACELwBSFXyq4qpAw4IARUAAIhCGAFwAcABBg==&rs=AOn4CLChFw4WKLHWFfnjHD9HHjRx6yKM3A', 'width': 336, 'height': 188}]}, 'title': {'runs': [{'text': 'JIHYO \"Killin’ Me Good\" Comeback Week'}], 'accessibility': {'accessibilityData': {'label': 'JIHYO \"Killin’ Me Good\" Comeback Week by TWICE 193,007 views 2 days ago 17 minutes'}}}, 'descriptionSnippet': {'runs': [{'text': 'JIHYO \"Killin’ Me Good\" Comeback Week \\n\\nJIHYO The 1st Mini Album \"ZONE\"\\n\\n🔥Listen \"Killin\\' Me Good\"\\nhttps://jihyo.lnk.to/ZONE\\n\\nTWICE Official Shop: https://TWICE.lnk.to/Shop\\nTWICE Official...'}]}, 'publishedTimeText': {'simpleText': '2 days ago'}, 'lengthText': {'accessibility': {'accessibilityData': {'label': '17 minutes, 16 seconds'}}, 'simpleText': '17:16'}, 'viewCountText': {'simpleText': '193,007 views'}, 'navigationEndpoint': {'clickTrackingParams': 'CMsBENwwIhMIio3yh8usgQMV1SC3AB2XRwjmWhhVQ3pneHhfRE0yRGNiOVkxc3BiOW1VSkGaAQMQ8jg=', 'commandMetadata': {'webCommandMetadata': {'url': '/watch?v=wUTgoUUBQUo', 'webPageType': 'WEB_PAGE_TYPE_WATCH', 'rootVe': 3832}}, 'watchEndpoint': {'videoId': 'wUTgoUUBQUo', 'watchEndpointSupportedOnesieConfig': {'html5PlaybackOnesieConfig': {'commonConfig': {'url': 'https://rr3---sn-jtcxgb5ux-q5js.googlevideo.com/initplayback?source=youtube&oeis=1&c=WEB&oad=3200&ovd=3200&oaad=11000&oavd=11000&ocs=700&oewis=1&oputc=1&ofpcc=1&msp=1&odepv=1&id=c144e0a14501414a&ip=27.147.202.139&initcwndbps=651250&mt=1694779540&oweuc=&pxtags=Cg4KAnR4EggyNDM4ODc3Mg&rxtags=Cg4KAnR4EggyNDM4ODc2Nw%2CCg4KAnR4EggyNDM4ODc2OA%2CCg4KAnR4EggyNDM4ODc2OQ%2CCg4KAnR4EggyNDM4ODc3MA%2CCg4KAnR4EggyNDM4ODc3MQ%2CCg4KAnR4EggyNDM4ODc3Mg%2CCg4KAnR4EggyNDM4ODc3Mw'}}}}}, 'ownerBadges': [{'metadataBadgeRenderer': {'icon': {'iconType': 'OFFICIAL_ARTIST_BADGE'}, 'style': 'BADGE_STYLE_TYPE_VERIFIED_ARTIST', 'tooltip': 'Official Artist Channel', 'trackingParams': 'CMsBENwwIhMIio3yh8usgQMV1SC3AB2XRwjm', 'accessibilityData': {'label': 'Official Artist Channel'}}}], 'trackingParams': 'CMsBENwwIhMIio3yh8usgQMV1SC3AB2XRwjmQMqChaiUlLiiwQE=', 'showActionMenu': False, 'shortViewCountText': {'accessibility': {'accessibilityData': {'label': '193K views'}}, 'simpleText': '193K views'}, 'menu': {'menuRenderer': {'items': [{'menuServiceItemRenderer': {'text': {'runs': [{'text': 'Add to queue'}]}, 'icon': {'iconType': 'ADD_TO_QUEUE_TAIL'}, 'serviceEndpoint': {'clickTrackingParams': 'CM8BEP6YBBgHIhMIio3yh8usgQMV1SC3AB2XRwjm', 'commandMetadata': {'webCommandMetadata': {'sendPost': True}}, 'signalServiceEndpoint': {'signal': 'CLIENT_SIGNAL', 'actions': [{'clickTrackingParams': 'CM8BEP6YBBgHIhMIio3yh8usgQMV1SC3AB2XRwjm', 'addToPlaylistCommand': {'openMiniplayer': True, 'videoId': 'wUTgoUUBQUo', 'listType': 'PLAYLIST_EDIT_LIST_TYPE_QUEUE', 'onCreateListCommand': {'clickTrackingParams': 'CM8BEP6YBBgHIhMIio3yh8usgQMV1SC3AB2XRwjm', 'commandMetadata': {'webCommandMetadata': {'sendPost': True, 'apiUrl': '/youtubei/v1/playlist/create'}}, 'createPlaylistServiceEndpoint': {'videoIds': ['wUTgoUUBQUo'], 'params': 'CAQ%3D'}}, 'videoIds': ['wUTgoUUBQUo']}}]}}, 'trackingParams': 'CM8BEP6YBBgHIhMIio3yh8usgQMV1SC3AB2XRwjm'}}, {'menuServiceItemRenderer': {'text': {'runs': [{'text': 'Share'}]}, 'icon': {'iconType': 'SHARE'}, 'serviceEndpoint': {'clickTrackingParams': 'CMsBENwwIhMIio3yh8usgQMV1SC3AB2XRwjm', 'commandMetadata': {'webCommandMetadata': {'sendPost': True, 'apiUrl': '/youtubei/v1/share/get_share_panel'}}, 'shareEntityServiceEndpoint': {'serializedShareEntity': 'Cgt3VVRnb1VVQlFVbw%3D%3D', 'commands': [{'clickTrackingParams': 'CMsBENwwIhMIio3yh8usgQMV1SC3AB2XRwjm', 'openPopupAction': {'popup': {'unifiedSharePanelRenderer': {'trackingParams': 'CM4BEI5iIhMIio3yh8usgQMV1SC3AB2XRwjm', 'showLoadingSpinner': True}}, 'popupType': 'DIALOG', 'beReused': True}}]}}, 'trackingParams': 'CMsBENwwIhMIio3yh8usgQMV1SC3AB2XRwjm'}}], 'trackingParams': 'CMsBENwwIhMIio3yh8usgQMV1SC3AB2XRwjm', 'accessibility': {'accessibilityData': {'label': 'Action menu'}}}}, 'thumbnailOverlays': [{'thumbnailOverlayTimeStatusRenderer': {'text': {'accessibility': {'accessibilityData': {'label': '17 minutes, 16 seconds'}}, 'simpleText': '17:16'}, 'style': 'DEFAULT'}}, {'thumbnailOverlayToggleButtonRenderer': {'isToggled': False, 'untoggledIcon': {'iconType': 'WATCH_LATER'}, 'toggledIcon': {'iconType': 'CHECK'}, 'untoggledTooltip': 'Watch later', 'toggledTooltip': 'Added', 'untoggledServiceEndpoint': {'clickTrackingParams': 'CM0BEPnnAxgCIhMIio3yh8usgQMV1SC3AB2XRwjm', 'commandMetadata': {'webCommandMetadata': {'sendPost': True, 'apiUrl': '/youtubei/v1/browse/edit_playlist'}}, 'playlistEditEndpoint': {'playlistId': 'WL', 'actions': [{'addedVideoId': 'wUTgoUUBQUo', 'action': 'ACTION_ADD_VIDEO'}]}}, 'toggledServiceEndpoint': {'clickTrackingParams': 'CM0BEPnnAxgCIhMIio3yh8usgQMV1SC3AB2XRwjm', 'commandMetadata': {'webCommandMetadata': {'sendPost': True, 'apiUrl': '/youtubei/v1/browse/edit_playlist'}}, 'playlistEditEndpoint': {'playlistId': 'WL', 'actions': [{'action': 'ACTION_REMOVE_VIDEO_BY_VIDEO_ID', 'removedVideoId': 'wUTgoUUBQUo'}]}}, 'untoggledAccessibility': {'accessibilityData': {'label': 'Watch later'}}, 'toggledAccessibility': {'accessibilityData': {'label': 'Added'}}, 'trackingParams': 'CM0BEPnnAxgCIhMIio3yh8usgQMV1SC3AB2XRwjm'}}, {'thumbnailOverlayToggleButtonRenderer': {'untoggledIcon': {'iconType': 'ADD_TO_QUEUE_TAIL'}, 'toggledIcon': {'iconType': 'PLAYLIST_ADD_CHECK'}, 'untoggledTooltip': 'Add to queue', 'toggledTooltip': 'Added', 'untoggledServiceEndpoint': {'clickTrackingParams': 'CMwBEMfsBBgDIhMIio3yh8usgQMV1SC3AB2XRwjm', 'commandMetadata': {'webCommandMetadata': {'sendPost': True}}, 'signalServiceEndpoint': {'signal': 'CLIENT_SIGNAL', 'actions': [{'clickTrackingParams': 'CMwBEMfsBBgDIhMIio3yh8usgQMV1SC3AB2XRwjm', 'addToPlaylistCommand': {'openMiniplayer': True, 'videoId': 'wUTgoUUBQUo', 'listType': 'PLAYLIST_EDIT_LIST_TYPE_QUEUE', 'onCreateListCommand': {'clickTrackingParams': 'CMwBEMfsBBgDIhMIio3yh8usgQMV1SC3AB2XRwjm', 'commandMetadata': {'webCommandMetadata': {'sendPost': True, 'apiUrl': '/youtubei/v1/playlist/create'}}, 'createPlaylistServiceEndpoint': {'videoIds': ['wUTgoUUBQUo'], 'params': 'CAQ%3D'}}, 'videoIds': ['wUTgoUUBQUo']}}]}}, 'untoggledAccessibility': {'accessibilityData': {'label': 'Add to queue'}}, 'toggledAccessibility': {'accessibilityData': {'label': 'Added'}}, 'trackingParams': 'CMwBEMfsBBgDIhMIio3yh8usgQMV1SC3AB2XRwjm'}}, {'thumbnailOverlayNowPlayingRenderer': {'text': {'runs': [{'text': 'Now playing'}]}}}], 'richThumbnail': {'movingThumbnailRenderer': {'movingThumbnailDetails': {'thumbnails': [{'url': 'https://i.ytimg.com/an_webp/wUTgoUUBQUo/mqdefault_6s.webp?du=3000&sqp=CND3kKgG&rs=AOn4CLAhdMRGR8mA2qdxM4nZbvc04SdzSQ', 'width': 320, 'height': 180}], 'logAsMovingThumbnail': True}, 'enableHoveredLogging': True, 'enableOverlay': True}}}\n"
     ]
    }
   ],
   "source": [
    "import scrapetube\n",
    "\n",
    "channel_id = \"UCzgxx_DM2Dcb9Y1spb9mUJA\"\n",
    "videos = scrapetube.get_channel(channel_id)\n",
    "\n",
    "# Initialize an empty list to store video data\n",
    "video_data = []\n",
    "\n",
    "# Initialize a counter to limit the number of videos\n",
    "count = 0\n",
    "for video in videos:\n",
    "    if count < 2:  # Limit to the first two videos\n",
    "\n",
    "        id = video['videoId']\n",
    "        video_links = f\"https://www.youtube.com/watch?v={id}\"\n",
    "        video_data.append(video)\n",
    "        count += 1\n",
    "    else:\n",
    "        break\n",
    "\n",
    "# Now you have video information stored in the video_data list\n",
    "for video in video_data:\n",
    "    print(video)\n"
   ]
  },
  {
   "cell_type": "code",
   "execution_count": 18,
   "id": "598893d5-84db-4c80-bf46-4ba1c9639e0c",
   "metadata": {},
   "outputs": [
    {
     "data": {
      "application/json": {
       "descriptionSnippet": {
        "runs": [
         {
          "text": "JIHYO \"Killin’ Me Good\" Comeback Week \n\nJIHYO The 1st Mini Album \"ZONE\"\n\n🔥Listen \"Killin' Me Good\"\nhttps://jihyo.lnk.to/ZONE\n\nTWICE Official Shop: https://TWICE.lnk.to/Shop\nTWICE Official..."
         }
        ]
       },
       "lengthText": {
        "accessibility": {
         "accessibilityData": {
          "label": "17 minutes, 16 seconds"
         }
        },
        "simpleText": "17:16"
       },
       "menu": {
        "menuRenderer": {
         "accessibility": {
          "accessibilityData": {
           "label": "Action menu"
          }
         },
         "items": [
          {
           "menuServiceItemRenderer": {
            "icon": {
             "iconType": "ADD_TO_QUEUE_TAIL"
            },
            "serviceEndpoint": {
             "clickTrackingParams": "CM8BEP6YBBgHIhMIio3yh8usgQMV1SC3AB2XRwjm",
             "commandMetadata": {
              "webCommandMetadata": {
               "sendPost": true
              }
             },
             "signalServiceEndpoint": {
              "actions": [
               {
                "addToPlaylistCommand": {
                 "listType": "PLAYLIST_EDIT_LIST_TYPE_QUEUE",
                 "onCreateListCommand": {
                  "clickTrackingParams": "CM8BEP6YBBgHIhMIio3yh8usgQMV1SC3AB2XRwjm",
                  "commandMetadata": {
                   "webCommandMetadata": {
                    "apiUrl": "/youtubei/v1/playlist/create",
                    "sendPost": true
                   }
                  },
                  "createPlaylistServiceEndpoint": {
                   "params": "CAQ%3D",
                   "videoIds": [
                    "wUTgoUUBQUo"
                   ]
                  }
                 },
                 "openMiniplayer": true,
                 "videoId": "wUTgoUUBQUo",
                 "videoIds": [
                  "wUTgoUUBQUo"
                 ]
                },
                "clickTrackingParams": "CM8BEP6YBBgHIhMIio3yh8usgQMV1SC3AB2XRwjm"
               }
              ],
              "signal": "CLIENT_SIGNAL"
             }
            },
            "text": {
             "runs": [
              {
               "text": "Add to queue"
              }
             ]
            },
            "trackingParams": "CM8BEP6YBBgHIhMIio3yh8usgQMV1SC3AB2XRwjm"
           }
          },
          {
           "menuServiceItemRenderer": {
            "icon": {
             "iconType": "SHARE"
            },
            "serviceEndpoint": {
             "clickTrackingParams": "CMsBENwwIhMIio3yh8usgQMV1SC3AB2XRwjm",
             "commandMetadata": {
              "webCommandMetadata": {
               "apiUrl": "/youtubei/v1/share/get_share_panel",
               "sendPost": true
              }
             },
             "shareEntityServiceEndpoint": {
              "commands": [
               {
                "clickTrackingParams": "CMsBENwwIhMIio3yh8usgQMV1SC3AB2XRwjm",
                "openPopupAction": {
                 "beReused": true,
                 "popup": {
                  "unifiedSharePanelRenderer": {
                   "showLoadingSpinner": true,
                   "trackingParams": "CM4BEI5iIhMIio3yh8usgQMV1SC3AB2XRwjm"
                  }
                 },
                 "popupType": "DIALOG"
                }
               }
              ],
              "serializedShareEntity": "Cgt3VVRnb1VVQlFVbw%3D%3D"
             }
            },
            "text": {
             "runs": [
              {
               "text": "Share"
              }
             ]
            },
            "trackingParams": "CMsBENwwIhMIio3yh8usgQMV1SC3AB2XRwjm"
           }
          }
         ],
         "trackingParams": "CMsBENwwIhMIio3yh8usgQMV1SC3AB2XRwjm"
        }
       },
       "navigationEndpoint": {
        "clickTrackingParams": "CMsBENwwIhMIio3yh8usgQMV1SC3AB2XRwjmWhhVQ3pneHhfRE0yRGNiOVkxc3BiOW1VSkGaAQMQ8jg=",
        "commandMetadata": {
         "webCommandMetadata": {
          "rootVe": 3832,
          "url": "/watch?v=wUTgoUUBQUo",
          "webPageType": "WEB_PAGE_TYPE_WATCH"
         }
        },
        "watchEndpoint": {
         "videoId": "wUTgoUUBQUo",
         "watchEndpointSupportedOnesieConfig": {
          "html5PlaybackOnesieConfig": {
           "commonConfig": {
            "url": "https://rr3---sn-jtcxgb5ux-q5js.googlevideo.com/initplayback?source=youtube&oeis=1&c=WEB&oad=3200&ovd=3200&oaad=11000&oavd=11000&ocs=700&oewis=1&oputc=1&ofpcc=1&msp=1&odepv=1&id=c144e0a14501414a&ip=27.147.202.139&initcwndbps=651250&mt=1694779540&oweuc=&pxtags=Cg4KAnR4EggyNDM4ODc3Mg&rxtags=Cg4KAnR4EggyNDM4ODc2Nw%2CCg4KAnR4EggyNDM4ODc2OA%2CCg4KAnR4EggyNDM4ODc2OQ%2CCg4KAnR4EggyNDM4ODc3MA%2CCg4KAnR4EggyNDM4ODc3MQ%2CCg4KAnR4EggyNDM4ODc3Mg%2CCg4KAnR4EggyNDM4ODc3Mw"
           }
          }
         }
        }
       },
       "ownerBadges": [
        {
         "metadataBadgeRenderer": {
          "accessibilityData": {
           "label": "Official Artist Channel"
          },
          "icon": {
           "iconType": "OFFICIAL_ARTIST_BADGE"
          },
          "style": "BADGE_STYLE_TYPE_VERIFIED_ARTIST",
          "tooltip": "Official Artist Channel",
          "trackingParams": "CMsBENwwIhMIio3yh8usgQMV1SC3AB2XRwjm"
         }
        }
       ],
       "publishedTimeText": {
        "simpleText": "2 days ago"
       },
       "richThumbnail": {
        "movingThumbnailRenderer": {
         "enableHoveredLogging": true,
         "enableOverlay": true,
         "movingThumbnailDetails": {
          "logAsMovingThumbnail": true,
          "thumbnails": [
           {
            "height": 180,
            "url": "https://i.ytimg.com/an_webp/wUTgoUUBQUo/mqdefault_6s.webp?du=3000&sqp=CND3kKgG&rs=AOn4CLAhdMRGR8mA2qdxM4nZbvc04SdzSQ",
            "width": 320
           }
          ]
         }
        }
       },
       "shortViewCountText": {
        "accessibility": {
         "accessibilityData": {
          "label": "193K views"
         }
        },
        "simpleText": "193K views"
       },
       "showActionMenu": false,
       "thumbnail": {
        "thumbnails": [
         {
          "height": 94,
          "url": "https://i.ytimg.com/vi/wUTgoUUBQUo/hqdefault.jpg?sqp=-oaymwEbCKgBEF5IVfKriqkDDggBFQAAiEIYAXABwAEG&rs=AOn4CLBfVzOBmCHQkaHEX4USiBmZgYXhOg",
          "width": 168
         },
         {
          "height": 110,
          "url": "https://i.ytimg.com/vi/wUTgoUUBQUo/hqdefault.jpg?sqp=-oaymwEbCMQBEG5IVfKriqkDDggBFQAAiEIYAXABwAEG&rs=AOn4CLCrHFUkjvq6h6V-0syp9Czv4Plz6Q",
          "width": 196
         },
         {
          "height": 138,
          "url": "https://i.ytimg.com/vi/wUTgoUUBQUo/hqdefault.jpg?sqp=-oaymwEcCPYBEIoBSFXyq4qpAw4IARUAAIhCGAFwAcABBg==&rs=AOn4CLCOyvIXVkLpf9fzm4e1M83tt9RDkw",
          "width": 246
         },
         {
          "height": 188,
          "url": "https://i.ytimg.com/vi/wUTgoUUBQUo/hqdefault.jpg?sqp=-oaymwEcCNACELwBSFXyq4qpAw4IARUAAIhCGAFwAcABBg==&rs=AOn4CLChFw4WKLHWFfnjHD9HHjRx6yKM3A",
          "width": 336
         }
        ]
       },
       "thumbnailOverlays": [
        {
         "thumbnailOverlayTimeStatusRenderer": {
          "style": "DEFAULT",
          "text": {
           "accessibility": {
            "accessibilityData": {
             "label": "17 minutes, 16 seconds"
            }
           },
           "simpleText": "17:16"
          }
         }
        },
        {
         "thumbnailOverlayToggleButtonRenderer": {
          "isToggled": false,
          "toggledAccessibility": {
           "accessibilityData": {
            "label": "Added"
           }
          },
          "toggledIcon": {
           "iconType": "CHECK"
          },
          "toggledServiceEndpoint": {
           "clickTrackingParams": "CM0BEPnnAxgCIhMIio3yh8usgQMV1SC3AB2XRwjm",
           "commandMetadata": {
            "webCommandMetadata": {
             "apiUrl": "/youtubei/v1/browse/edit_playlist",
             "sendPost": true
            }
           },
           "playlistEditEndpoint": {
            "actions": [
             {
              "action": "ACTION_REMOVE_VIDEO_BY_VIDEO_ID",
              "removedVideoId": "wUTgoUUBQUo"
             }
            ],
            "playlistId": "WL"
           }
          },
          "toggledTooltip": "Added",
          "trackingParams": "CM0BEPnnAxgCIhMIio3yh8usgQMV1SC3AB2XRwjm",
          "untoggledAccessibility": {
           "accessibilityData": {
            "label": "Watch later"
           }
          },
          "untoggledIcon": {
           "iconType": "WATCH_LATER"
          },
          "untoggledServiceEndpoint": {
           "clickTrackingParams": "CM0BEPnnAxgCIhMIio3yh8usgQMV1SC3AB2XRwjm",
           "commandMetadata": {
            "webCommandMetadata": {
             "apiUrl": "/youtubei/v1/browse/edit_playlist",
             "sendPost": true
            }
           },
           "playlistEditEndpoint": {
            "actions": [
             {
              "action": "ACTION_ADD_VIDEO",
              "addedVideoId": "wUTgoUUBQUo"
             }
            ],
            "playlistId": "WL"
           }
          },
          "untoggledTooltip": "Watch later"
         }
        },
        {
         "thumbnailOverlayToggleButtonRenderer": {
          "toggledAccessibility": {
           "accessibilityData": {
            "label": "Added"
           }
          },
          "toggledIcon": {
           "iconType": "PLAYLIST_ADD_CHECK"
          },
          "toggledTooltip": "Added",
          "trackingParams": "CMwBEMfsBBgDIhMIio3yh8usgQMV1SC3AB2XRwjm",
          "untoggledAccessibility": {
           "accessibilityData": {
            "label": "Add to queue"
           }
          },
          "untoggledIcon": {
           "iconType": "ADD_TO_QUEUE_TAIL"
          },
          "untoggledServiceEndpoint": {
           "clickTrackingParams": "CMwBEMfsBBgDIhMIio3yh8usgQMV1SC3AB2XRwjm",
           "commandMetadata": {
            "webCommandMetadata": {
             "sendPost": true
            }
           },
           "signalServiceEndpoint": {
            "actions": [
             {
              "addToPlaylistCommand": {
               "listType": "PLAYLIST_EDIT_LIST_TYPE_QUEUE",
               "onCreateListCommand": {
                "clickTrackingParams": "CMwBEMfsBBgDIhMIio3yh8usgQMV1SC3AB2XRwjm",
                "commandMetadata": {
                 "webCommandMetadata": {
                  "apiUrl": "/youtubei/v1/playlist/create",
                  "sendPost": true
                 }
                },
                "createPlaylistServiceEndpoint": {
                 "params": "CAQ%3D",
                 "videoIds": [
                  "wUTgoUUBQUo"
                 ]
                }
               },
               "openMiniplayer": true,
               "videoId": "wUTgoUUBQUo",
               "videoIds": [
                "wUTgoUUBQUo"
               ]
              },
              "clickTrackingParams": "CMwBEMfsBBgDIhMIio3yh8usgQMV1SC3AB2XRwjm"
             }
            ],
            "signal": "CLIENT_SIGNAL"
           }
          },
          "untoggledTooltip": "Add to queue"
         }
        },
        {
         "thumbnailOverlayNowPlayingRenderer": {
          "text": {
           "runs": [
            {
             "text": "Now playing"
            }
           ]
          }
         }
        }
       ],
       "title": {
        "accessibility": {
         "accessibilityData": {
          "label": "JIHYO \"Killin’ Me Good\" Comeback Week by TWICE 193,007 views 2 days ago 17 minutes"
         }
        },
        "runs": [
         {
          "text": "JIHYO \"Killin’ Me Good\" Comeback Week"
         }
        ]
       },
       "trackingParams": "CMsBENwwIhMIio3yh8usgQMV1SC3AB2XRwjmQMqChaiUlLiiwQE=",
       "videoId": "wUTgoUUBQUo",
       "viewCountText": {
        "simpleText": "193,007 views"
       }
      },
      "text/plain": [
       "<IPython.core.display.JSON object>"
      ]
     },
     "execution_count": 18,
     "metadata": {
      "application/json": {
       "expanded": false,
       "root": "root"
      }
     },
     "output_type": "execute_result"
    }
   ],
   "source": [
    "JSON(video_data[1])"
   ]
  },
  {
   "cell_type": "code",
   "execution_count": 20,
   "id": "4efa7b84-1756-4981-9c8d-6073da7b6c33",
   "metadata": {},
   "outputs": [
    {
     "name": "stdout",
     "output_type": "stream",
     "text": [
      "[youtube] Extracting URL: https://youtu.be/pcG5AdriJAQ?si=fbQjAwmRFVKCqxkK\n",
      "[youtube] pcG5AdriJAQ: Downloading webpage\n",
      "[youtube] pcG5AdriJAQ: Downloading ios player API JSON\n",
      "[youtube] pcG5AdriJAQ: Downloading android player API JSON\n",
      "[youtube] pcG5AdriJAQ: Downloading m3u8 information\n",
      "[info] pcG5AdriJAQ: Downloading 1 format(s): 616+251\n",
      "[hlsnative] Downloading m3u8 manifest\n",
      "[hlsnative] Total fragments: 4\n",
      "[download] Destination: Dahyun for Fall 2023 MICHAEL Michael Kors [pcG5AdriJAQ].f616.mp4\n",
      "[download] 100% of    3.51MiB in 00:00:01 at 1.84MiB/s                  \n",
      "[download] Destination: Dahyun for Fall 2023 MICHAEL Michael Kors [pcG5AdriJAQ].f251.webm\n",
      "[download] 100% of  270.98KiB in 00:00:00 at 3.06MiB/s     \n",
      "[Merger] Merging formats into \"Dahyun for Fall 2023 MICHAEL Michael Kors [pcG5AdriJAQ].webm\"\n",
      "Deleting original file Dahyun for Fall 2023 MICHAEL Michael Kors [pcG5AdriJAQ].f251.webm (pass -k to keep)\n",
      "Deleting original file Dahyun for Fall 2023 MICHAEL Michael Kors [pcG5AdriJAQ].f616.mp4 (pass -k to keep)\n",
      "Title: Dahyun for Fall 2023 MICHAEL Michael Kors\n",
      "Description: \"Introducing Dahyun, member of the global musical group TWICE and our newest Global Brand Ambassador. Photographed in Seoul, South Korea, Dahyun models styles from Fall 2023, including the Heather handbag. Known around the world for her talent and impeccable style, Dahyun radiates the confidence, glamour and jet-set energy that characterizes the Michael Kors brand.\n",
      "\n",
      "#MichaelKors #Dahyun #Twice\n",
      "\n",
      "About Michael Kors \n",
      "Michael Kors is a world-renowned, award-winning designer of luxury accessories and ready-to-wear. His namesake company, established in 1981, currently produces a range of products under Michael Kors Collection, MICHAEL Michael Kors and Michael Kors Mens, including accessories, ready-to-wear, footwear, wearable technology, watches, and a full line of fragrance products. Michael Kors stores are operated in the most prestigious cities in the world. In addition, Michael Kors operates digital flagships across North America, Europe and Asia, offering customers a seamless omni-channel experience.\"\n",
      "Views: 43682\n",
      "Likes: 6993\n",
      "Dislikes: 0\n"
     ]
    }
   ],
   "source": [
    "import yt_dlp\n",
    "\n",
    "# Create a yt-dlp object\n",
    "ydl = yt_dlp.YoutubeDL()\n",
    "\n",
    "# URL of the YouTube video\n",
    "video_url = \"https://youtu.be/pcG5AdriJAQ?si=fbQjAwmRFVKCqxkK\"\n",
    "\n",
    "# Extract video information\n",
    "info_dict = ydl.extract_info(video_url, download=False)\n",
    "\n",
    "# Extract the desired information\n",
    "title = info_dict.get('title', '')\n",
    "description = info_dict.get('description', '')\n",
    "views = info_dict.get('view_count', 0)\n",
    "likes = info_dict.get('like_count', 0)\n",
    "dislikes = info_dict.get('dislike_count', 0)\n",
    "\n",
    "# Print the extracted information\n",
    "print(f\"Title: {title}\")\n",
    "print(f\"Description: {description}\")\n",
    "print(f\"Views: {views}\")\n",
    "print(f\"Likes: {likes}\")\n",
    "print(f\"Dislikes: {dislikes}\")\n"
   ]
  },
  {
   "cell_type": "code",
   "execution_count": 12,
   "id": "ed916cec-ba48-452b-af88-9d36401470ad",
   "metadata": {},
   "outputs": [
    {
     "name": "stderr",
     "output_type": "stream",
     "text": [
      "'yt-dlp' is not recognized as an internal or external command,\n",
      "operable program or batch file.\n"
     ]
    }
   ],
   "source": [
    "!yt-dlp --list-extractors"
   ]
  },
  {
   "cell_type": "code",
   "execution_count": 17,
   "id": "2f277d67-912c-44ca-a34b-b4840b46cf33",
   "metadata": {},
   "outputs": [
    {
     "name": "stdout",
     "output_type": "stream",
     "text": [
      "[youtube] Extracting URL: https://www.youtube.com/watch?v=opFsMyQmScw\n",
      "[youtube] opFsMyQmScw: Downloading webpage\n",
      "[youtube] opFsMyQmScw: Downloading ios player API JSON\n",
      "[youtube] opFsMyQmScw: Downloading android player API JSON\n",
      "[youtube] opFsMyQmScw: Downloading m3u8 information\n",
      "[youtube] Extracting URL: https://www.youtube.com/watch?v=wUTgoUUBQUo\n",
      "[youtube] wUTgoUUBQUo: Downloading webpage\n",
      "[youtube] wUTgoUUBQUo: Downloading ios player API JSON\n",
      "[youtube] wUTgoUUBQUo: Downloading android player API JSON\n",
      "[youtube] wUTgoUUBQUo: Downloading m3u8 information\n",
      "{'channle_name': 'Twice', 'channle_id': 'UCzgxx_DM2Dcb9Y1spb9mUJA', 'title': 'JIHYO \"Killin′ Me Good (English Ver.)\" Official Lyric Video', 'description': 'JIHYO \"Killin′ Me Good (English Ver.)\" Official Lyric Video\\n\\nJIHYO The 1st Mini Album \"ZONE\"\\n\\n🎵\"Killin\\' Me Good (English Ver.)\"\\nJIHYO.lnk.to/KillinMeGood     \\n\\nTWICE Official Shop: https://TWICE.lnk.to/Shop\\nTWICE Official YouTube: http://www.youtube.com/c/TWICE\\nTWICE Official Facebook: http://www.facebook.com/JYPETWICE\\nTWICE Official Twitter: http://www.twitter.com/JYPETWICE\\nTWICE Official TikTok https://www.tiktok.com/@twice_tiktok_...\\nTWICE Official Instagram: http://www.instagram.com/TWICETAGRAM\\nTWICE Official Homepage: http://TWICE.jype.com\\nTWICE Official Fan\\'s: http://fans.jype.com/TWICE\\n\\nⓒ 2023 JYP Entertainment. All Rights Reserved\\n\\n#TWICE #JIHYO #ZONE', 'view': 88652, 'like': 24342, 'published_date': {'simpleText': '11 hours ago'}, 'link': 'https://www.youtube.com/watch?v=opFsMyQmScw', 'video_id': 'opFsMyQmScw'}\n",
      "{'channle_name': 'Twice', 'channle_id': 'UCzgxx_DM2Dcb9Y1spb9mUJA', 'title': 'JIHYO \"Killin’ Me Good\" Comeback Week', 'description': 'JIHYO \"Killin’ Me Good\" Comeback Week \\n\\nJIHYO The 1st Mini Album \"ZONE\"\\n\\n🔥Listen \"Killin\\' Me Good\"\\nhttps://jihyo.lnk.to/ZONE\\n\\nTWICE Official Shop: https://TWICE.lnk.to/Shop\\nTWICE Official YouTube: http://www.youtube.com/c/TWICE\\nTWICE Official Facebook: http://www.facebook.com/JYPETWICE\\nTWICE Official Twitter: http://www.twitter.com/JYPETWICE\\nTWICE Official TikTok https://www.tiktok.com/@twice_tiktok_...\\nTWICE Official Instagram: http://www.instagram.com/TWICETAGRAM\\nTWICE Official Homepage: http://TWICE.jype.com\\nTWICE Official Fan\\'s: http://fans.jype.com/TWICE\\n\\nⓒ 2023 JYP Entertainment. All Rights Reserved\\n\\n#TWICE #JIHYO #ZONE', 'view': 198115, 'like': 20127, 'published_date': {'simpleText': '2 days ago'}, 'link': 'https://www.youtube.com/watch?v=wUTgoUUBQUo', 'video_id': 'wUTgoUUBQUo'}\n"
     ]
    }
   ],
   "source": [
    "import scrapetube\n",
    "import yt_dlp\n",
    "\n",
    "\n",
    "\n",
    "channel_id = \"UCzgxx_DM2Dcb9Y1spb9mUJA\"\n",
    "videos = scrapetube.get_channel(channel_id)\n",
    "channel_name = 'Twice'\n",
    "# Initialize an empty list to store video data\n",
    "video_data = []\n",
    "# Create a yt-dlp object\n",
    "ydl = yt_dlp.YoutubeDL()\n",
    "# Initialize a counter to limit the number of videos\n",
    "count = 0\n",
    "for video in videos:\n",
    "    if count < 2:  # Limit to the first two videos\n",
    "\n",
    "        id = video['videoId']\n",
    "        date = video['publishedTimeText']\n",
    "        video_links = f\"https://www.youtube.com/watch?v={id}\"\n",
    "        # Extract video information\n",
    "        info_dict = ydl.extract_info(video_links, download=False)\n",
    "    \n",
    "        # Extract the desired information\n",
    "        title = info_dict.get('title', '')\n",
    "        description = info_dict.get('description', '')\n",
    "        views = info_dict.get('view_count', 0)\n",
    "        likes = info_dict.get('like_count', 0)\n",
    "\n",
    "        all = {\n",
    "            'channle_name': channel_name,\n",
    "            'channle_id':channel_id,\n",
    "            'title':title,\n",
    "            'description':description,\n",
    "            'view':views,\n",
    "            'like':likes,\n",
    "            'published_date':date,\n",
    "            'link':video_links,\n",
    "            'video_id':id\n",
    "            \n",
    "        }\n",
    "        video_data.append(all)\n",
    "        count += 1\n",
    "    else:\n",
    "        break\n",
    "\n",
    "# Now you have video information stored in the video_data list\n",
    "for video in video_data:\n",
    "    print(video)"
   ]
  },
  {
   "cell_type": "code",
   "execution_count": 19,
   "id": "8ec08049-7461-4fcf-9741-fa6c413882ca",
   "metadata": {},
   "outputs": [
    {
     "data": {
      "text/plain": [
       "{'channle_name': 'Twice',\n",
       " 'channle_id': 'UCzgxx_DM2Dcb9Y1spb9mUJA',\n",
       " 'title': 'JIHYO \"Killin’ Me Good\" Comeback Week',\n",
       " 'description': 'JIHYO \"Killin’ Me Good\" Comeback Week \\n\\nJIHYO The 1st Mini Album \"ZONE\"\\n\\n🔥Listen \"Killin\\' Me Good\"\\nhttps://jihyo.lnk.to/ZONE\\n\\nTWICE Official Shop: https://TWICE.lnk.to/Shop\\nTWICE Official YouTube: http://www.youtube.com/c/TWICE\\nTWICE Official Facebook: http://www.facebook.com/JYPETWICE\\nTWICE Official Twitter: http://www.twitter.com/JYPETWICE\\nTWICE Official TikTok https://www.tiktok.com/@twice_tiktok_...\\nTWICE Official Instagram: http://www.instagram.com/TWICETAGRAM\\nTWICE Official Homepage: http://TWICE.jype.com\\nTWICE Official Fan\\'s: http://fans.jype.com/TWICE\\n\\nⓒ 2023 JYP Entertainment. All Rights Reserved\\n\\n#TWICE #JIHYO #ZONE',\n",
       " 'view': 198115,\n",
       " 'like': 20127,\n",
       " 'published_date': {'simpleText': '2 days ago'},\n",
       " 'link': 'https://www.youtube.com/watch?v=wUTgoUUBQUo',\n",
       " 'video_id': 'wUTgoUUBQUo'}"
      ]
     },
     "execution_count": 19,
     "metadata": {},
     "output_type": "execute_result"
    }
   ],
   "source": [
    "video_data[1]"
   ]
  },
  {
   "cell_type": "code",
   "execution_count": null,
   "id": "c5dccef8-4238-4647-bb80-d7efb2a8a740",
   "metadata": {},
   "outputs": [],
   "source": []
  }
 ],
 "metadata": {
  "kernelspec": {
   "display_name": "Python 3 (ipykernel)",
   "language": "python",
   "name": "python3"
  },
  "language_info": {
   "codemirror_mode": {
    "name": "ipython",
    "version": 3
   },
   "file_extension": ".py",
   "mimetype": "text/x-python",
   "name": "python",
   "nbconvert_exporter": "python",
   "pygments_lexer": "ipython3",
   "version": "3.10.5"
  }
 },
 "nbformat": 4,
 "nbformat_minor": 5
}
