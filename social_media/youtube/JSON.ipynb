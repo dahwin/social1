{
 "cells": [
  {
   "cell_type": "code",
   "execution_count": 6,
   "id": "67e457d3-fa96-4788-9284-877b52e88da7",
   "metadata": {},
   "outputs": [
    {
     "name": "stdout",
     "output_type": "stream",
     "text": [
      "Saved video_id as JSON in video_id.json\n"
     ]
    }
   ],
   "source": [
    "import json\n",
    "\n",
    "id = ['another_video_id', 'yet_another_video_id']\n",
    "video_id = {\n",
    "    'video_id': id\n",
    "}\n",
    "\n",
    "# Define the filename where you want to save the JSON data\n",
    "json_filename = 'video_id.json'\n",
    "\n",
    "# Save the dictionary as JSON in the specified file\n",
    "with open(json_filename, 'w') as json_file:\n",
    "    json.dump(video_id, json_file)\n",
    "\n",
    "print(f\"Saved video_id as JSON in {json_filename}\")\n"
   ]
  },
  {
   "cell_type": "code",
   "execution_count": 5,
   "id": "5d5b56e9-7958-4a53-97ae-9c018714a00e",
   "metadata": {},
   "outputs": [
    {
     "name": "stdout",
     "output_type": "stream",
     "text": [
      "Updated JSON data saved to video_id.json\n"
     ]
    }
   ],
   "source": [
    "import json\n",
    "\n",
    "# Define the filename where your JSON data is stored\n",
    "json_filename = 'video_id.json'\n",
    "\n",
    "# Step 1: Open the JSON file and load its contents into a Python dictionary\n",
    "with open(json_filename, 'r') as json_file:\n",
    "    data = json.load(json_file)\n",
    "\n",
    "# Step 2: Update the 'video_id' key with a list of video IDs\n",
    "if 'video_id' not in data:\n",
    "    data['video_id'] = []  # Initialize an empty list if 'video_id' doesn't exist\n",
    "\n",
    "# Add video IDs to the 'video_id' list\n",
    "video_ids_to_add = ['another_video_id', 'yet_another_video_id']\n",
    "data['video_id'].extend(video_ids_to_add)\n",
    "\n",
    "# Step 3: Save the updated dictionary back to the JSON file\n",
    "with open(json_filename, 'w') as json_file:\n",
    "    json.dump(data, json_file)\n",
    "\n",
    "print(f\"Updated JSON data saved to {json_filename}\")\n"
   ]
  },
  {
   "cell_type": "code",
   "execution_count": null,
   "id": "e29f98bf-393e-4b15-b1e5-06bab3148acf",
   "metadata": {},
   "outputs": [],
   "source": []
  },
  {
   "cell_type": "markdown",
   "id": "4a85d82f-2539-4d6b-ab72-298d3e635d66",
   "metadata": {},
   "source": [
    "# Inside Mulitple"
   ]
  },
  {
   "cell_type": "code",
   "execution_count": 24,
   "id": "b41ba7a7-6b4d-4946-b4bd-d33413779fcf",
   "metadata": {},
   "outputs": [
    {
     "name": "stdout",
     "output_type": "stream",
     "text": [
      "Saved video_id as JSON in video.json\n"
     ]
    }
   ],
   "source": [
    "import json\n",
    "\n",
    "ids = ['talking about dahyun', 'talking about dubu', 'talking about darwin']\n",
    "time = [2022,2023,2023]\n",
    "values = ['dahwin', 'dubu', 'darwin']\n",
    "fromm = ['2pm', 'morning', 'day']\n",
    "to = ['6pm', 'night', 'night']\n",
    "\n",
    "video_id = {}\n",
    "\n",
    "# Create a dictionary for each ID and save it\n",
    "for i, id in enumerate(ids):\n",
    "    data = {\n",
    "        'time': {\n",
    "            str(time[i]): {\n",
    "                'from': fromm[i],\n",
    "                'to': to[i]\n",
    "            }\n",
    "        }\n",
    "    }\n",
    "    video_id[id] = data\n",
    "\n",
    "# Define the filename where you want to save the JSON data\n",
    "json_filename = 'video.json'\n",
    "\n",
    "# Save the dictionary as JSON in the specified file\n",
    "with open(json_filename, 'w') as json_file:\n",
    "    json.dump(video_id, json_file, indent=4)\n",
    "\n",
    "print(f\"Saved video_id as JSON in {json_filename}\")\n"
   ]
  },
  {
   "cell_type": "code",
   "execution_count": 27,
   "id": "c249d7fd-8bae-478c-a0b9-ccc9a34cdb37",
   "metadata": {},
   "outputs": [
    {
     "name": "stdout",
     "output_type": "stream",
     "text": [
      "Updated JSON data saved to video.json\n"
     ]
    }
   ],
   "source": [
    "import json\n",
    "\n",
    "ids = ['talking about dahyun1', 'talking about dubu1', 'talking about darwin1']\n",
    "time = [2022, 2023, 2023]\n",
    "values = ['dahwin', 'dubu', 'darwin']\n",
    "fromm = ['2pm', 'morning', 'day']\n",
    "to = ['6pm', 'night', 'night']\n",
    "\n",
    "video_id = {}\n",
    "\n",
    "# Create a dictionary for each ID and save it\n",
    "for i, id in enumerate(ids):\n",
    "    data = {\n",
    "        'time': {\n",
    "            str(time[i]): {\n",
    "                'from': fromm[i],\n",
    "                'to': to[i]\n",
    "            }\n",
    "        }\n",
    "    }\n",
    "    video_id[id] = data\n",
    "\n",
    "# Define the filename where you want to save the JSON data\n",
    "json_filename = 'video.json'\n",
    "\n",
    "# Step 1: Open the JSON file and load its contents into a Python dictionary\n",
    "with open(json_filename, 'r') as json_file:\n",
    "    data = json.load(json_file)\n",
    "\n",
    "# Step 2: Update the existing dictionary with the new video_id data\n",
    "data.update(video_id)\n",
    "\n",
    "# Step 3: Save the updated dictionary back to the JSON file\n",
    "with open(json_filename, 'w') as json_file:\n",
    "    json.dump(data, json_file, indent=4)\n",
    "\n",
    "print(f\"Updated JSON data saved to {json_filename}\")\n",
    "\n"
   ]
  },
  {
   "cell_type": "code",
   "execution_count": 70,
   "id": "1d0fdffa-a364-4afb-8751-0b5bdafc795b",
   "metadata": {},
   "outputs": [
    {
     "name": "stdout",
     "output_type": "stream",
     "text": [
      "Saved 'all' as JSON in video.json\n"
     ]
    }
   ],
   "source": [
    "import json\n",
    "\n",
    "ids = 'talking about dahyun'\n",
    "time = [2021, 2022, 2023]\n",
    "values = ['dahwin', 'dubu', 'darwin']\n",
    "fromm = ['2pm', 'morning', 'day']\n",
    "to = ['6pm', 'night', 'night']\n",
    "\n",
    "# Create an empty dictionary for 'all'\n",
    "all = {}\n",
    "\n",
    "# Create a list of dictionaries for each year and add it to the 'all' dictionary\n",
    "for i, t in enumerate(time):\n",
    "    data = {\n",
    "        f'{t}': {\n",
    "            'from': fromm[i],\n",
    "            'to': to[i]\n",
    "        }\n",
    "    }\n",
    "    if ids not in all:\n",
    "        all[ids] = {}\n",
    "    all[ids].update(data)\n",
    "\n",
    "# Define the filename where you want to save the JSON data\n",
    "json_filename = 'video.json'\n",
    "\n",
    "# Save the 'all' dictionary as JSON in the specified file\n",
    "with open(json_filename, 'w') as json_file:\n",
    "    json.dump(all, json_file, indent=4)\n",
    "\n",
    "print(f\"Saved 'all' as JSON in {json_filename}\")\n",
    "\n"
   ]
  },
  {
   "cell_type": "code",
   "execution_count": 63,
   "id": "ef18c120-2f1d-4396-8d95-659b48e2aa51",
   "metadata": {},
   "outputs": [
    {
     "name": "stdout",
     "output_type": "stream",
     "text": [
      "Updated JSON data saved to video.json\n"
     ]
    }
   ],
   "source": [
    "import json\n",
    "\n",
    "ids = 'talking about dahyun'\n",
    "time = [2025]\n",
    "values = ['dahwin']\n",
    "fromm = ['2pm']\n",
    "to = ['6pm']\n",
    "\n",
    "# Create an empty dictionary for 'all'\n",
    "all = {}\n",
    "\n",
    "# Create a list of dictionaries for each year and add it to the 'all' dictionary\n",
    "for i, t in enumerate(time):\n",
    "    data = {\n",
    "        f'{t}': {\n",
    "            'from': fromm[i],\n",
    "            'to': to[i]\n",
    "        }\n",
    "    }\n",
    "    if ids not in all:\n",
    "        all[ids] = {}\n",
    "    all[ids].update(data)\n",
    "\n",
    "# Define the filename where you want to save the JSON data\n",
    "json_filename = 'video.json'\n",
    "\n",
    "# Step 1: Open the JSON file and load its contents into a Python dictionary\n",
    "with open(json_filename, 'r') as json_file:\n",
    "    data = json.load(json_file)\n",
    "\n",
    "# Step 2: Update the existing dictionary with the new video_id data\n",
    "data.update(all)\n",
    "\n",
    "# Step 3: Save the updated dictionary back to the JSON file\n",
    "with open(json_filename, 'w') as json_file:\n",
    "    json.dump(data, json_file, indent=4)\n",
    "\n",
    "print(f\"Updated JSON data saved to {json_filename}\")\n"
   ]
  },
  {
   "cell_type": "markdown",
   "id": "58edaccf-5d1a-4baa-9380-ad3b4db5d5fe",
   "metadata": {},
   "source": [
    "# Perfect"
   ]
  },
  {
   "cell_type": "code",
   "execution_count": 9,
   "id": "4c47b547-3997-469c-a69d-e98ab15014f7",
   "metadata": {},
   "outputs": [
    {
     "name": "stdout",
     "output_type": "stream",
     "text": [
      "Updated the data for 2025 in 'video.json'\n"
     ]
    }
   ],
   "source": [
    "import json\n",
    "\n",
    "# Define the new data\n",
    "\n",
    "ids = 'Everythingness is a theory discovered by me . hi my name is ratul and my girlfriend name is dubu.'\n",
    "new_time = ['Everythingness is a theory discovered by me . hi my name is ratul and my girlfriend name is dubu.']\n",
    "new_fromm = ['2023-09-22 06:52:57 PM']\n",
    "new_to = ['2023-09-22 06:54:04 PM']\n",
    "\n",
    "\n",
    "# Define the JSON filename\n",
    "json_filename = 'video.json'\n",
    "\n",
    "# Read the existing data from 'video.json' (if it exists)\n",
    "try:\n",
    "    with open(json_filename, 'r') as json_file:\n",
    "        all_data = json.load(json_file)\n",
    "except FileNotFoundError:\n",
    "    # If the file doesn't exist, create an empty dictionary\n",
    "    all_data = {}\n",
    "\n",
    "# Update the 'all' dictionary with the new values for the year 2025\n",
    "new_data = {}\n",
    "for i, t in enumerate(new_time):\n",
    "    new_data[str(t)] = {\n",
    "        'from': new_fromm[i],\n",
    "        'to': new_to[i]\n",
    "    }\n",
    "\n",
    "# Update or create the 'talking about dahyun' key with the new data\n",
    "if ids in all_data:\n",
    "    all_data[ids].update(new_data)\n",
    "else:\n",
    "    all_data[ids] = new_data\n",
    "\n",
    "# Write the updated data back to 'video.json'\n",
    "with open(json_filename, 'w') as json_file:\n",
    "    json.dump(all_data, json_file, indent=4)\n",
    "\n",
    "print(f\"Updated the data for 2025 in 'video.json'\")\n",
    "\n"
   ]
  },
  {
   "cell_type": "code",
   "execution_count": 10,
   "id": "fa5ccab7-d0d3-409c-997e-42ff4b97864b",
   "metadata": {},
   "outputs": [
    {
     "data": {
      "text/plain": [
       "{'Everythingness is a theory discovered by me . hi my name is ratul and my girlfriend name is dubu.': {'from': '2023-09-22 06:52:57 PM',\n",
       "  'to': '2023-09-22 06:54:04 PM'},\n",
       " 'fuck alga khatil ': {'from': '2023-09-22 06:52:55 PM',\n",
       "  'to': '2023-09-22 06:54:05 PM'}}"
      ]
     },
     "execution_count": 10,
     "metadata": {},
     "output_type": "execute_result"
    }
   ],
   "source": [
    "d = list(all_data.keys())[-1]\n",
    "all_data[d]"
   ]
  },
  {
   "cell_type": "code",
   "execution_count": 11,
   "id": "3f39d753-7481-4871-932b-eb07b5224e55",
   "metadata": {},
   "outputs": [
    {
     "name": "stdout",
     "output_type": "stream",
     "text": [
      "True\n"
     ]
    }
   ],
   "source": [
    "# Define the filename where your JSON data is stored\n",
    "json_filename = 'video.json'\n",
    "\n",
    "# Step 1: Open the JSON file and load its contents into a Python dictionary\n",
    "with open(json_filename, 'r') as json_file:\n",
    "    data = json.load(json_file)\n",
    "\n",
    "last_key = list(data.keys())[-1]  # Get the last key in the dictionary\n",
    "value = data[last_key]  # Get the value associated with the last key\n",
    "\n",
    "# print(f\"The value for the last key '{last_key}' is: {value}\")\n",
    "# Assuming you have 'value' containing the last key's value\n",
    "specific_value = '2023-09-22 06:54:05 PM'\n",
    "\n",
    "# Function to recursively search for a value in a dictionary\n",
    "def search_value(dictionary, target_value):\n",
    "    for key, value in dictionary.items():\n",
    "        if isinstance(value, dict):\n",
    "            if search_value(value, target_value):\n",
    "                return True\n",
    "        elif value == target_value:\n",
    "            return True\n",
    "    return False\n",
    "\n",
    "if search_value(value, specific_value):\n",
    "    print(\"True\")\n",
    "else:\n",
    "    print(\"False\")"
   ]
  },
  {
   "cell_type": "code",
   "execution_count": 47,
   "id": "93c1356b-bcb3-40c3-9d17-9f931e6baa8d",
   "metadata": {},
   "outputs": [
    {
     "name": "stdout",
     "output_type": "stream",
     "text": [
      "True\n"
     ]
    }
   ],
   "source": [
    "\n"
   ]
  },
  {
   "cell_type": "code",
   "execution_count": null,
   "id": "61337455-bc24-4235-91de-6096283e450a",
   "metadata": {},
   "outputs": [],
   "source": []
  },
  {
   "cell_type": "code",
   "execution_count": null,
   "id": "2beca72b-cdcd-45f8-8346-b0ef249c784c",
   "metadata": {},
   "outputs": [],
   "source": []
  },
  {
   "cell_type": "code",
   "execution_count": null,
   "id": "1fb7ceea-5589-4bfc-a30c-bd56d733b6c6",
   "metadata": {},
   "outputs": [],
   "source": []
  },
  {
   "cell_type": "code",
   "execution_count": null,
   "id": "408fc8aa-32d1-4e30-b0d5-06d3e1991903",
   "metadata": {},
   "outputs": [],
   "source": []
  },
  {
   "cell_type": "code",
   "execution_count": null,
   "id": "93ddfccd-40b2-4112-a40e-c3d10db2fda4",
   "metadata": {},
   "outputs": [],
   "source": []
  },
  {
   "cell_type": "code",
   "execution_count": 15,
   "id": "4c674981-1203-4b32-8817-06c0c822d514",
   "metadata": {},
   "outputs": [
    {
     "name": "stdout",
     "output_type": "stream",
     "text": [
      "Updated JSON data saved to video_id.json\n"
     ]
    }
   ],
   "source": [
    "import json\n",
    "\n",
    "# Define the filename where your JSON data is stored\n",
    "json_filename = 'video_id.json'\n",
    "\n",
    "# Step 1: Open the JSON file and load its contents into a Python dictionary\n",
    "with open(json_filename, 'r') as json_file:\n",
    "    data = json.load(json_file)\n",
    "\n",
    "# Step 2: Update the 'video_id' key with a list of video IDs\n",
    "if 'video_id' not in data:\n",
    "    data['video_id'] = []  # Initialize an empty list if 'video_id' doesn't exist\n",
    "\n",
    "# Add video IDs to the 'video_id' list if they don't already exist\n",
    "video_ids_to_add = ['dahyun', 'darwin']\n",
    "\n",
    "for video_id in video_ids_to_add:\n",
    "    if video_id not in data['video_id']:\n",
    "        data['video_id'].append(video_id)\n",
    "\n",
    "# Step 3: Save the updated dictionary back to the JSON file\n",
    "with open(json_filename, 'w') as json_file:\n",
    "    json.dump(data, json_file)\n",
    "\n",
    "print(f\"Updated JSON data saved to {json_filename}\")\n"
   ]
  },
  {
   "cell_type": "code",
   "execution_count": 34,
   "id": "13e4eb4c-302d-4808-abf4-af22df7f38b4",
   "metadata": {},
   "outputs": [
    {
     "name": "stdout",
     "output_type": "stream",
     "text": [
      "Updated JSON data saved to video_id.json\n"
     ]
    }
   ],
   "source": [
    "import json\n",
    "\n",
    "# Define the filename where your JSON data is stored\n",
    "json_filename = 'video_id.json'\n",
    "\n",
    "# Step 1: Open the JSON file and load its contents into a Python dictionary\n",
    "with open(json_filename, 'r') as json_file:\n",
    "    j_data = json.load(json_file)\n",
    "\n",
    "# Step 2: Update the 'video_id' key with a list of video IDs\n",
    "if 'video_id' not in j_data:\n",
    "    j_data['video_id'] = []  # Initialize an empty list if 'video_id' doesn't exist\n",
    "id = 'as;ldjf230'\n",
    "# Add video IDs to the 'video_id' list if they don't already exist\n",
    "video_ids_to_add = [id]\n",
    "\n",
    "for video_id in video_ids_to_add:\n",
    "    if video_id not in j_data['video_id']:\n",
    "        j_data['video_id'].append(video_id)\n",
    "\n",
    "# Step 3: Save the updated dictionary back to the JSON file\n",
    "with open(json_filename, 'w') as json_file:\n",
    "    json.dump(j_data, json_file)\n",
    "\n",
    "print(f\"Updated JSON data saved to {json_filename}\")\n"
   ]
  },
  {
   "cell_type": "code",
   "execution_count": null,
   "id": "2c245435-9734-4be5-b34e-4aa512cd3cda",
   "metadata": {},
   "outputs": [],
   "source": []
  }
 ],
 "metadata": {
  "kernelspec": {
   "display_name": "Python 3 (ipykernel)",
   "language": "python",
   "name": "python3"
  },
  "language_info": {
   "codemirror_mode": {
    "name": "ipython",
    "version": 3
   },
   "file_extension": ".py",
   "mimetype": "text/x-python",
   "name": "python",
   "nbconvert_exporter": "python",
   "pygments_lexer": "ipython3",
   "version": "3.10.5"
  }
 },
 "nbformat": 4,
 "nbformat_minor": 5
}
