{
 "cells": [
  {
   "cell_type": "code",
   "execution_count": 2,
   "id": "3a0c5980-a994-457c-81f5-87660926edf4",
   "metadata": {},
   "outputs": [
    {
     "data": {
      "text/plain": [
       "'dahyu+darwin=dahwin'"
      ]
     },
     "execution_count": 2,
     "metadata": {},
     "output_type": "execute_result"
    }
   ],
   "source": [
    "'dahyu+darwin=dahwin'"
   ]
  },
  {
   "cell_type": "code",
   "execution_count": 3,
   "id": "c596ea8c-d908-4fa4-8b63-c78ca32ad03a",
   "metadata": {},
   "outputs": [],
   "source": [
    "import nest_asyncio\n",
    "\n",
    "nest_asyncio.apply()"
   ]
  },
  {
   "cell_type": "code",
   "execution_count": 4,
   "id": "283cbb73-33e2-449c-896f-b52761c890ee",
   "metadata": {},
   "outputs": [
    {
     "name": "stdout",
     "output_type": "stream",
     "text": [
      "[{'title': 'Twice Contract End Date: Will the Group Disband? - OtakuKart', 'href': 'https://otakukart.com/344223/twice-contract-end-date-will-the-group-disband/', 'body': 'The good news is that JYP Entertainment finally gave a statement regarding their contract with Twice on July 12th, 2022.'}, {'title': 'All nine members of Twice renew their contracts with JYP Entertainment', 'href': 'https://koreajoongangdaily.joins.com/2022/07/12/entertainment/kpop/Korea-Kpop-Twice/20220712110530512.html', 'body': \"Oct. 20, 2022 marks Twice's seventh anniversary and the end of its first contract.\"}, {'title': 'End of the line? 6 K-pop group contracts ending in 2022', 'href': 'https://www.scmp.com/magazines/style/celebrity/article/3163336/end-line-7-k-pop-group-contracts-ending-2022-twice-and', 'body': 'End of the line: 6 K-pop group contracts ending in 2022, from Twice and Monsta X to CLC and Day6 - who will disband and who will continue into a new era? ... Most idols have a seven-year ...'}, {'title': 'All 9 members of TWICE renew their contracts with JYP ... - allkpop', 'href': 'https://www.allkpop.com/article/2022/07/all-9-members-of-twice-renew-their-contracts-with-jyp-entertainment', 'body': '281 41 News Posted by Susan-Han Monday, July 11, 2022 BREAKING All 9 members of TWICE renew their contracts with JYP Entertainment AKP STAFF On July 12, JYP Entertainment confirmed that all nine...'}, {'title': 'TWICE forever: TWICE renews contract with JYP Entertainment - RAPPLER', 'href': 'https://www.rappler.com/entertainment/music/twice-renews-contract-with-jyp-entertainment/', 'body': \"According to a Koreaboo repor t, JYP Entertainment released a statement on Tuesday, July 12, to announce that all of the members decided to complete their renewal ahead of the group's expiration of...\"}]\n"
     ]
    }
   ],
   "source": [
    "import asyncio\n",
    "from duckduckgo_search import AsyncDDGS\n",
    "\n",
    "async def get_results():\n",
    "    async with AsyncDDGS() as ddgs:\n",
    "        results = [r async for r in ddgs.text(\"twice contract end date\", max_results=5)]\n",
    "        return results\n",
    "\n",
    "async def main():\n",
    "    ddgs_results = await get_results()\n",
    "    print(ddgs_results)\n",
    "\n",
    "if __name__ == \"__main__\":\n",
    "    asyncio.run(main())"
   ]
  },
  {
   "cell_type": "code",
   "execution_count": 5,
   "id": "88b76ee4-7f8c-4a21-b48b-fbf4c5a2a14f",
   "metadata": {},
   "outputs": [],
   "source": [
    "import asyncio\n",
    "import json\n",
    "from duckduckgo_search import AsyncDDGS\n",
    "\n",
    "async def get_results():\n",
    "    async with AsyncDDGS() as ddgs:\n",
    "        results = [r async for r in ddgs.text(\"twice contract end date\", max_results=5)]\n",
    "        return results\n",
    "\n",
    "async def main():\n",
    "    ddgs_results = await get_results()\n",
    "\n",
    "    # Save results to a JSON file\n",
    "    with open('ddgs_results.json', 'w', encoding='utf-8') as json_file:\n",
    "        json.dump(ddgs_results, json_file, ensure_ascii=False, indent=4)\n",
    "\n",
    "if __name__ == \"__main__\":\n",
    "    asyncio.run(main())\n"
   ]
  },
  {
   "cell_type": "code",
   "execution_count": 2,
   "id": "c9f660fc-c9bd-4144-bc90-daf4a34e2532",
   "metadata": {},
   "outputs": [
    {
     "name": "stdout",
     "output_type": "stream",
     "text": [
      "The IPv4 address of localhost is 127.0.0.1\n"
     ]
    }
   ],
   "source": [
    "import socket\n",
    "\n",
    "host = \"localhost\"\n",
    "port = 3000\n",
    "\n",
    "# Use a socket to get the IPv4 address\n",
    "try:\n",
    "    ip_address = socket.gethostbyname(host)\n",
    "    if \":\" in ip_address:  # Check if it's an IPv6 address\n",
    "        ip_address = socket.getaddrinfo(host, None, socket.AF_INET)[0][4][0]\n",
    "    print(f\"The IPv4 address of {host} is {ip_address}\")\n",
    "except socket.error as e:\n",
    "    print(f\"Error: {e}\")\n",
    "\n"
   ]
  },
  {
   "cell_type": "code",
   "execution_count": null,
   "id": "d276a662-dacd-4b27-9be3-2f84067b7a35",
   "metadata": {},
   "outputs": [],
   "source": []
  }
 ],
 "metadata": {
  "kernelspec": {
   "display_name": "Python 3 (ipykernel)",
   "language": "python",
   "name": "python3"
  },
  "language_info": {
   "codemirror_mode": {
    "name": "ipython",
    "version": 3
   },
   "file_extension": ".py",
   "mimetype": "text/x-python",
   "name": "python",
   "nbconvert_exporter": "python",
   "pygments_lexer": "ipython3",
   "version": "3.10.5"
  }
 },
 "nbformat": 4,
 "nbformat_minor": 5
}
