{
 "cells": [
  {
   "cell_type": "code",
   "execution_count": 1,
   "id": "096fbfe1-cf80-42f1-bd51-14a8de5f9e45",
   "metadata": {},
   "outputs": [
    {
     "name": "stdout",
     "output_type": "stream",
     "text": [
      "who+is+the+boyfriend+of+kim+dahyun+from+twice\n"
     ]
    }
   ],
   "source": [
    "text = 'who is the boyfriend of kim dahyun from twice'\n",
    "\n",
    "# Replace spaces with plus (+)\n",
    "d_text = text.replace(' ', '+')\n",
    "\n",
    "# Print the modified text\n",
    "print(d_text)\n"
   ]
  },
  {
   "cell_type": "code",
   "execution_count": 2,
   "id": "c5013961-4f14-4b2f-afc2-e4ac9a453de6",
   "metadata": {},
   "outputs": [
    {
     "name": "stdout",
     "output_type": "stream",
     "text": [
      "https://kfanhub.com/dahyun-boyfriend/\n",
      "https://kfanhub.com/dahyun-boyfriend/%23Who_Is_TWICE_Dahyun_Boyfriend_Dahyun_Dating_History_Ideal_Type_2023\n",
      "https://kfanhub.com/dahyun-boyfriend/%23TWICEs_Dahyuns_Dating_Rumor_With_Cha_Eun-woo\n",
      "https://www.datingcelebs.com/who-is-kim-dahyun-dating/\n",
      "https://www.j-14.com/posts/who-are-twice-members-dating-k-pop-groups-boyfriends/\n",
      "https://aminoapps.com/hot/does-kim-dahyun-have-a-boyfriend-or-girlfriend.html\n",
      "https://epicstream.com/article/twice-dahyun-dated-cha-eun-woo-heres-the-truth\n",
      "https://www.youtube.com/watch%3Fv%3D7ggfq3mYKQY\n",
      "https://www.youtube.com/watch%3Fv%3D7ggfq3mYKQY\n",
      "https://kfanhub.com/astro-cha-eun-woo-twice-dahyun-relationship/\n",
      "https://affairpost.com/dahyun-kpop-age-height-boyfriend-family-net-worth-wiki/\n",
      "https://www.quora.com/Is-BTS-Jimin-in-love-with-Twice-s-Dahyun\n",
      "https://www.quora.com/What-are-some-Twices-dating-scandals\n",
      "https://www.quora.com/What-is-the-dating-history-of-each-member-of-TWICE\n",
      "https://www.quora.com/Is-BTS-Jimin-dating-Twice-Jungyeon-or-Dahyun\n",
      "https://www.quora.com/Are-TWICE-members-allowed-to-have-a-boyfriend\n"
     ]
    }
   ],
   "source": [
    "import requests\n",
    "from bs4 import BeautifulSoup\n",
    "\n",
    "# URL of the webpage\n",
    "# url = \"https://deepmind.google/discover/blog/transforming-the-future-of-music-creation/\"\n",
    "# url = \"https://www.google.com/search?q=gpt4+v+openai&oq=gpt4+v&gs_lcrp=EgZjaHJvbWUyBggAEEUYOTIJCAEQABgKGIAEMgcIAhAAGIAEMgkIAxAAGAoYgAQyBwgEEAAYgAQyBggFEEUYPDIGCAYQRRg8MgYIBxBFGDzSAQgyMDYzajBqN6gCALACAA&sourceid=chrome&ie=UTF-8\"\n",
    "url= \"https://www.google.com/search?q=kim+dahyun&oq=&gs_lcrp=EgZjaHJvbWUqCQgBECMYJxjqAjIJCAAQIxgnGOoCMgkIARAjGCcY6gIyCQgCECMYJxjqAjIJCAMQIxgnGOoCMgkIBBAjGCcY6gIyCQgFECMYJxjqAjIJCAYQIxgnGOoCMgkIBxAjGCcY6gLSAQoyNzM3NDlqMGo3qAIIsAIB&sourceid=chrome&ie=UTF-8\"\n",
    "# url = f\"https://www.bing.com/search?pglt=673&q={d_text}&cvid=bfc98c93c97e4eac84cedef81f2793e4&gs_lcrp=EgZjaHJvbWUqBggAEAAYQDIGCAAQABhAMgcIARDrBxhAMgYIAhAAGEAyBggDEAAYQDIGCAQQABhAMgYIBRAAGEAyBggGEAAYQDIGCAcQABhAMgYICBAAGEDSAQg1NDY4ajBqMagCALACAA&FORM=ANSPA1&PC=U531\"\n",
    "# url = \"https://www.bing.com/search?pglt=673&q=who+is+the+boyfriend+of+kim+dahyun+from+twice&cvid=2b3d586c249d45a2b0af46bc771b78c2&gs_lcrp=EgZjaHJvbWUyBggAEEUYOTIGCAEQABhAMgYIAhAAGEAyBggDEAAYQDIGCAQQABhAMgYIBRAAGEAyBggGEAAYQDIGCAcQABhAMgYICBAAGEDSAQgxMTM0ajBqMagCALACAA&FORM=ANSPA1&PC=U531\"\n",
    "url = f\"https://www.google.com/search?q={d_text}&gs_lcrp=EgZjaHJvbWUqDAgAECMYJxiABBiKBTIMCAAQIxgnGIAEGIoFMhgIARAuGEMYgwEYxwEYsQMY0QMYgAQYigUyDggCEEUYJxg7GIAEGIoFMgcIAxAAGIAEMgYIBBBFGDwyBggFEEUYPDIGCAYQRRg8MgYIBxBFGD3SAQg0MTI2ajBqN6gCALACAA&sourceid=chrome&ie=UTF-8\"\n",
    "# Send a GET request to the URL\n",
    "response = requests.get(url)\n",
    "\n",
    "# Check if the request was successful (status code 200)\n",
    "if response.status_code == 200:\n",
    "    # Parse the HTML content of the page\n",
    "    soup = BeautifulSoup(response.content, 'html.parser')\n",
    "\n",
    "    # Find all <a> tags (links) in the HTML\n",
    "    all_links_elements = soup.find_all('a')\n",
    "\n",
    "    # Extract href attributes from the links\n",
    "    all_links = [link.get('href') for link in all_links_elements]\n",
    "    \n",
    "    # Print or use the links as needed\n",
    "\n",
    "    # Print each link on a new line\n",
    "    for link in all_links:\n",
    "        if 'https://' in link:\n",
    "            if 'google' not in link:\n",
    "                # Find the index of the first occurrence of 'https://'\n",
    "                start_index = link.find('https://')\n",
    "\n",
    "                # Extract the substring starting from 'https://'\n",
    "                result = link[start_index:]\n",
    "                #print(result)\n",
    "                # Find the index of \"&sa=\"\n",
    "                sa_index = result.find(\"&sa=\")\n",
    "\n",
    "                # Extract the substring before \"&sa=\"\n",
    "                result = result[:sa_index]\n",
    "\n",
    "                # Print the result\n",
    "                print(result)\n",
    "\n",
    "                \n",
    "else:\n",
    "    print(f\"Failed to retrieve the webpage. Status code: {response.status_code}\")\n"
   ]
  },
  {
   "cell_type": "code",
   "execution_count": null,
   "id": "7032ca9a-27eb-44ce-b579-f0e08181d4ad",
   "metadata": {},
   "outputs": [],
   "source": []
  }
 ],
 "metadata": {
  "kernelspec": {
   "display_name": "Python 3 (ipykernel)",
   "language": "python",
   "name": "python3"
  },
  "language_info": {
   "codemirror_mode": {
    "name": "ipython",
    "version": 3
   },
   "file_extension": ".py",
   "mimetype": "text/x-python",
   "name": "python",
   "nbconvert_exporter": "python",
   "pygments_lexer": "ipython3",
   "version": "3.10.5"
  }
 },
 "nbformat": 4,
 "nbformat_minor": 5
}
